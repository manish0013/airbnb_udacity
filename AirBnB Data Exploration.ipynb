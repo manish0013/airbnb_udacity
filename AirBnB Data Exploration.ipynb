{
 "cells": [
  {
   "cell_type": "code",
   "execution_count": 1,
   "metadata": {},
   "outputs": [
    {
     "data": {
      "text/plain": [
       "'C:\\\\Users\\\\mm13690\\\\Documents\\\\ADS\\\\Courses\\\\Udacity\\\\Data Science Blog\\\\code'"
      ]
     },
     "execution_count": 1,
     "metadata": {},
     "output_type": "execute_result"
    }
   ],
   "source": [
    "import os\n",
    "import numpy as np\n",
    "import pandas as pd\n",
    "import matplotlib.pyplot as plt\n",
    "os.getcwd()\n"
   ]
  },
  {
   "cell_type": "code",
   "execution_count": 2,
   "metadata": {},
   "outputs": [],
   "source": [
    "def clean_price(x):\n",
    "    '''this function converts a price with \"$\",\",\" characters  to readable float values'''\n",
    "    x = str(x).replace('$','')\n",
    "    x = str(x).replace(',','')\n",
    "#     print(x)\n",
    "    x = float(x)\n",
    "    return x\n",
    "\n",
    "def clean_perc(x):\n",
    "    '''this function converts a price with \"$\",\",\" characters  to readable float values'''\n",
    "    x = str(x).replace('%','')\n",
    "#     print(x)\n",
    "    x = float(x)\n",
    "    return x\n"
   ]
  },
  {
   "cell_type": "markdown",
   "metadata": {},
   "source": [
    "### About the Data\n",
    "    - Calendar Data - This file contains listing ids their availability and price on a given day\n",
    "    - Listings Data - This contains full description of a listing along with its average review score\n",
    "    - Reviews Data - This has data from reviews, a unique ID for each reviewer, listing_id and detailed comments\n",
    "    "
   ]
  },
  {
   "cell_type": "code",
   "execution_count": 3,
   "metadata": {},
   "outputs": [],
   "source": [
    "os.chdir('C:\\\\Users\\\\mm13690\\\\Documents\\\\ADS\\\\Courses\\\\Udacity\\\\data_science_blog\\\\input')\n",
    "# input data\n",
    "df_calendar = pd.read_csv('calendar.csv')\n",
    "df_listings = pd.read_csv('listings.csv')\n",
    "df_reviews = pd.read_csv('reviews.csv')\n"
   ]
  },
  {
   "cell_type": "code",
   "execution_count": 4,
   "metadata": {},
   "outputs": [
    {
     "name": "stdout",
     "output_type": "stream",
     "text": [
      "   listing_id        date available   price\n",
      "0      241032  2016-01-04         t  $85.00\n",
      "1      241032  2016-01-05         t  $85.00\n",
      "2      241032  2016-01-06         f     NaN\n",
      "3      241032  2016-01-07         f     NaN\n",
      "4      241032  2016-01-08         f     NaN\n"
     ]
    },
    {
     "data": {
      "text/html": [
       "<div>\n",
       "<style scoped>\n",
       "    .dataframe tbody tr th:only-of-type {\n",
       "        vertical-align: middle;\n",
       "    }\n",
       "\n",
       "    .dataframe tbody tr th {\n",
       "        vertical-align: top;\n",
       "    }\n",
       "\n",
       "    .dataframe thead th {\n",
       "        text-align: right;\n",
       "    }\n",
       "</style>\n",
       "<table border=\"1\" class=\"dataframe\">\n",
       "  <thead>\n",
       "    <tr style=\"text-align: right;\">\n",
       "      <th></th>\n",
       "      <th>id</th>\n",
       "      <th>listing_url</th>\n",
       "      <th>scrape_id</th>\n",
       "      <th>last_scraped</th>\n",
       "      <th>name</th>\n",
       "      <th>summary</th>\n",
       "      <th>space</th>\n",
       "      <th>description</th>\n",
       "      <th>experiences_offered</th>\n",
       "      <th>neighborhood_overview</th>\n",
       "      <th>...</th>\n",
       "      <th>review_scores_value</th>\n",
       "      <th>requires_license</th>\n",
       "      <th>license</th>\n",
       "      <th>jurisdiction_names</th>\n",
       "      <th>instant_bookable</th>\n",
       "      <th>cancellation_policy</th>\n",
       "      <th>require_guest_profile_picture</th>\n",
       "      <th>require_guest_phone_verification</th>\n",
       "      <th>calculated_host_listings_count</th>\n",
       "      <th>reviews_per_month</th>\n",
       "    </tr>\n",
       "  </thead>\n",
       "  <tbody>\n",
       "    <tr>\n",
       "      <td>0</td>\n",
       "      <td>241032</td>\n",
       "      <td>https://www.airbnb.com/rooms/241032</td>\n",
       "      <td>20160104002432</td>\n",
       "      <td>2016-01-04</td>\n",
       "      <td>Stylish Queen Anne Apartment</td>\n",
       "      <td>NaN</td>\n",
       "      <td>Make your self at home in this charming one-be...</td>\n",
       "      <td>Make your self at home in this charming one-be...</td>\n",
       "      <td>none</td>\n",
       "      <td>NaN</td>\n",
       "      <td>...</td>\n",
       "      <td>10.0</td>\n",
       "      <td>f</td>\n",
       "      <td>NaN</td>\n",
       "      <td>WASHINGTON</td>\n",
       "      <td>f</td>\n",
       "      <td>moderate</td>\n",
       "      <td>f</td>\n",
       "      <td>f</td>\n",
       "      <td>2</td>\n",
       "      <td>4.07</td>\n",
       "    </tr>\n",
       "    <tr>\n",
       "      <td>1</td>\n",
       "      <td>953595</td>\n",
       "      <td>https://www.airbnb.com/rooms/953595</td>\n",
       "      <td>20160104002432</td>\n",
       "      <td>2016-01-04</td>\n",
       "      <td>Bright &amp; Airy Queen Anne Apartment</td>\n",
       "      <td>Chemically sensitive? We've removed the irrita...</td>\n",
       "      <td>Beautiful, hypoallergenic apartment in an extr...</td>\n",
       "      <td>Chemically sensitive? We've removed the irrita...</td>\n",
       "      <td>none</td>\n",
       "      <td>Queen Anne is a wonderful, truly functional vi...</td>\n",
       "      <td>...</td>\n",
       "      <td>10.0</td>\n",
       "      <td>f</td>\n",
       "      <td>NaN</td>\n",
       "      <td>WASHINGTON</td>\n",
       "      <td>f</td>\n",
       "      <td>strict</td>\n",
       "      <td>t</td>\n",
       "      <td>t</td>\n",
       "      <td>6</td>\n",
       "      <td>1.48</td>\n",
       "    </tr>\n",
       "    <tr>\n",
       "      <td>2</td>\n",
       "      <td>3308979</td>\n",
       "      <td>https://www.airbnb.com/rooms/3308979</td>\n",
       "      <td>20160104002432</td>\n",
       "      <td>2016-01-04</td>\n",
       "      <td>New Modern House-Amazing water view</td>\n",
       "      <td>New modern house built in 2013.  Spectacular s...</td>\n",
       "      <td>Our house is modern, light and fresh with a wa...</td>\n",
       "      <td>New modern house built in 2013.  Spectacular s...</td>\n",
       "      <td>none</td>\n",
       "      <td>Upper Queen Anne is a charming neighborhood fu...</td>\n",
       "      <td>...</td>\n",
       "      <td>10.0</td>\n",
       "      <td>f</td>\n",
       "      <td>NaN</td>\n",
       "      <td>WASHINGTON</td>\n",
       "      <td>f</td>\n",
       "      <td>strict</td>\n",
       "      <td>f</td>\n",
       "      <td>f</td>\n",
       "      <td>2</td>\n",
       "      <td>1.15</td>\n",
       "    </tr>\n",
       "    <tr>\n",
       "      <td>3</td>\n",
       "      <td>7421966</td>\n",
       "      <td>https://www.airbnb.com/rooms/7421966</td>\n",
       "      <td>20160104002432</td>\n",
       "      <td>2016-01-04</td>\n",
       "      <td>Queen Anne Chateau</td>\n",
       "      <td>A charming apartment that sits atop Queen Anne...</td>\n",
       "      <td>NaN</td>\n",
       "      <td>A charming apartment that sits atop Queen Anne...</td>\n",
       "      <td>none</td>\n",
       "      <td>NaN</td>\n",
       "      <td>...</td>\n",
       "      <td>NaN</td>\n",
       "      <td>f</td>\n",
       "      <td>NaN</td>\n",
       "      <td>WASHINGTON</td>\n",
       "      <td>f</td>\n",
       "      <td>flexible</td>\n",
       "      <td>f</td>\n",
       "      <td>f</td>\n",
       "      <td>1</td>\n",
       "      <td>NaN</td>\n",
       "    </tr>\n",
       "    <tr>\n",
       "      <td>4</td>\n",
       "      <td>278830</td>\n",
       "      <td>https://www.airbnb.com/rooms/278830</td>\n",
       "      <td>20160104002432</td>\n",
       "      <td>2016-01-04</td>\n",
       "      <td>Charming craftsman 3 bdm house</td>\n",
       "      <td>Cozy family craftman house in beautiful neighb...</td>\n",
       "      <td>Cozy family craftman house in beautiful neighb...</td>\n",
       "      <td>Cozy family craftman house in beautiful neighb...</td>\n",
       "      <td>none</td>\n",
       "      <td>We are in the beautiful neighborhood of Queen ...</td>\n",
       "      <td>...</td>\n",
       "      <td>9.0</td>\n",
       "      <td>f</td>\n",
       "      <td>NaN</td>\n",
       "      <td>WASHINGTON</td>\n",
       "      <td>f</td>\n",
       "      <td>strict</td>\n",
       "      <td>f</td>\n",
       "      <td>f</td>\n",
       "      <td>1</td>\n",
       "      <td>0.89</td>\n",
       "    </tr>\n",
       "  </tbody>\n",
       "</table>\n",
       "<p>5 rows × 92 columns</p>\n",
       "</div>"
      ],
      "text/plain": [
       "        id                           listing_url       scrape_id last_scraped  \\\n",
       "0   241032   https://www.airbnb.com/rooms/241032  20160104002432   2016-01-04   \n",
       "1   953595   https://www.airbnb.com/rooms/953595  20160104002432   2016-01-04   \n",
       "2  3308979  https://www.airbnb.com/rooms/3308979  20160104002432   2016-01-04   \n",
       "3  7421966  https://www.airbnb.com/rooms/7421966  20160104002432   2016-01-04   \n",
       "4   278830   https://www.airbnb.com/rooms/278830  20160104002432   2016-01-04   \n",
       "\n",
       "                                  name  \\\n",
       "0         Stylish Queen Anne Apartment   \n",
       "1   Bright & Airy Queen Anne Apartment   \n",
       "2  New Modern House-Amazing water view   \n",
       "3                   Queen Anne Chateau   \n",
       "4       Charming craftsman 3 bdm house   \n",
       "\n",
       "                                             summary  \\\n",
       "0                                                NaN   \n",
       "1  Chemically sensitive? We've removed the irrita...   \n",
       "2  New modern house built in 2013.  Spectacular s...   \n",
       "3  A charming apartment that sits atop Queen Anne...   \n",
       "4  Cozy family craftman house in beautiful neighb...   \n",
       "\n",
       "                                               space  \\\n",
       "0  Make your self at home in this charming one-be...   \n",
       "1  Beautiful, hypoallergenic apartment in an extr...   \n",
       "2  Our house is modern, light and fresh with a wa...   \n",
       "3                                                NaN   \n",
       "4  Cozy family craftman house in beautiful neighb...   \n",
       "\n",
       "                                         description experiences_offered  \\\n",
       "0  Make your self at home in this charming one-be...                none   \n",
       "1  Chemically sensitive? We've removed the irrita...                none   \n",
       "2  New modern house built in 2013.  Spectacular s...                none   \n",
       "3  A charming apartment that sits atop Queen Anne...                none   \n",
       "4  Cozy family craftman house in beautiful neighb...                none   \n",
       "\n",
       "                               neighborhood_overview  ... review_scores_value  \\\n",
       "0                                                NaN  ...                10.0   \n",
       "1  Queen Anne is a wonderful, truly functional vi...  ...                10.0   \n",
       "2  Upper Queen Anne is a charming neighborhood fu...  ...                10.0   \n",
       "3                                                NaN  ...                 NaN   \n",
       "4  We are in the beautiful neighborhood of Queen ...  ...                 9.0   \n",
       "\n",
       "  requires_license license jurisdiction_names instant_bookable  \\\n",
       "0                f     NaN         WASHINGTON                f   \n",
       "1                f     NaN         WASHINGTON                f   \n",
       "2                f     NaN         WASHINGTON                f   \n",
       "3                f     NaN         WASHINGTON                f   \n",
       "4                f     NaN         WASHINGTON                f   \n",
       "\n",
       "  cancellation_policy  require_guest_profile_picture  \\\n",
       "0            moderate                              f   \n",
       "1              strict                              t   \n",
       "2              strict                              f   \n",
       "3            flexible                              f   \n",
       "4              strict                              f   \n",
       "\n",
       "  require_guest_phone_verification calculated_host_listings_count  \\\n",
       "0                                f                              2   \n",
       "1                                t                              6   \n",
       "2                                f                              2   \n",
       "3                                f                              1   \n",
       "4                                f                              1   \n",
       "\n",
       "  reviews_per_month  \n",
       "0              4.07  \n",
       "1              1.48  \n",
       "2              1.15  \n",
       "3               NaN  \n",
       "4              0.89  \n",
       "\n",
       "[5 rows x 92 columns]"
      ]
     },
     "execution_count": 4,
     "metadata": {},
     "output_type": "execute_result"
    }
   ],
   "source": [
    "print(df_calendar.head())\n",
    "df_listings.head()"
   ]
  },
  {
   "cell_type": "code",
   "execution_count": 5,
   "metadata": {},
   "outputs": [
    {
     "name": "stdout",
     "output_type": "stream",
     "text": [
      "   listing_id        date available   price\n",
      "0      241032  2016-01-04         t  $85.00\n",
      "1      241032  2016-01-05         t  $85.00\n",
      "2      241032  2016-01-06         f     NaN\n",
      "3      241032  2016-01-07         f     NaN\n",
      "4      241032  2016-01-08         f     NaN\n",
      "\n",
      " Unique Listings -  3818\n",
      "# Records -  1393570\n",
      "\n",
      " check #lisitngs by available \n",
      "   available  listing_id    date   price\n",
      "0         f      459028  459028       0\n",
      "1         t      934542  934542  934542\n",
      "# of days  365\n"
     ]
    }
   ],
   "source": [
    "# sample data\n",
    "\n",
    "# Explore Listings Data\n",
    "\n",
    "print(df_calendar.head())\n",
    "print(\"\\n Unique Listings - \",df_calendar.listing_id.nunique())\n",
    "print(\"# Records - \",df_calendar.shape[0])\n",
    "\n",
    "# check missing values\n",
    "df_calendar.isnull().sum()  # are price values missing when a listing is not available\n",
    "\n",
    "print(\"\\n check #lisitngs by available \\n\",df_calendar.groupby(['available']).count().reset_index())\n",
    "\n",
    "print(\"# of days \",df_calendar.date.nunique())\n"
   ]
  },
  {
   "cell_type": "markdown",
   "metadata": {},
   "source": [
    " - There are 3818 unique listings, each Listing has been tracked for a total of 365 days \n",
    " - We've the available dates for each listing and their corresponding price"
   ]
  },
  {
   "cell_type": "code",
   "execution_count": 6,
   "metadata": {},
   "outputs": [],
   "source": [
    "# clean price\n",
    "df_calendar['price'] = df_calendar.price.apply(clean_price)\n",
    "\n",
    "# convert date to python readable datetime format\n",
    "df_calendar['date'] = pd.to_datetime(df_calendar['date'])\n",
    "df_calendar['month'] = df_calendar.date.dt.month\n",
    "df_calendar['year'] = df_calendar.date.dt.year\n",
    "df_calendar['weekday'] = df_calendar.date.dt.weekday_name\n",
    "\n",
    "\n",
    "# convert available to 1 and 0 flag\n",
    "map_flag =   {'f': 0 , 't': 1}\n",
    "df_calendar['available'] = df_calendar['available'].map(map_flag)\n",
    "\n",
    "# count the total available days a listing is available and their average price\n",
    "df_calendar_list_agg = df_calendar.groupby(['listing_id']).agg({'available':'sum','price':'mean'}).reset_index()\n",
    "\n",
    "# aggregate the price and availability by date\n",
    "df_calendar_date_agg = df_calendar.groupby(['date']).agg({'available':'sum','price':'mean'}).reset_index()\n",
    "df_calendar_date_agg['perc_available'] = df_calendar_date_agg['available']/df_calendar.listing_id.nunique()"
   ]
  },
  {
   "cell_type": "code",
   "execution_count": 7,
   "metadata": {
    "scrolled": true
   },
   "outputs": [
    {
     "data": {
      "text/html": [
       "<div>\n",
       "<style scoped>\n",
       "    .dataframe tbody tr th:only-of-type {\n",
       "        vertical-align: middle;\n",
       "    }\n",
       "\n",
       "    .dataframe tbody tr th {\n",
       "        vertical-align: top;\n",
       "    }\n",
       "\n",
       "    .dataframe thead th {\n",
       "        text-align: right;\n",
       "    }\n",
       "</style>\n",
       "<table border=\"1\" class=\"dataframe\">\n",
       "  <thead>\n",
       "    <tr style=\"text-align: right;\">\n",
       "      <th></th>\n",
       "      <th>listing_id</th>\n",
       "      <th>date</th>\n",
       "      <th>available</th>\n",
       "      <th>price</th>\n",
       "      <th>month</th>\n",
       "      <th>year</th>\n",
       "      <th>weekday</th>\n",
       "    </tr>\n",
       "  </thead>\n",
       "  <tbody>\n",
       "    <tr>\n",
       "      <td>0</td>\n",
       "      <td>241032</td>\n",
       "      <td>2016-01-04</td>\n",
       "      <td>1</td>\n",
       "      <td>85.0</td>\n",
       "      <td>1</td>\n",
       "      <td>2016</td>\n",
       "      <td>Monday</td>\n",
       "    </tr>\n",
       "    <tr>\n",
       "      <td>1</td>\n",
       "      <td>241032</td>\n",
       "      <td>2016-01-05</td>\n",
       "      <td>1</td>\n",
       "      <td>85.0</td>\n",
       "      <td>1</td>\n",
       "      <td>2016</td>\n",
       "      <td>Tuesday</td>\n",
       "    </tr>\n",
       "    <tr>\n",
       "      <td>2</td>\n",
       "      <td>241032</td>\n",
       "      <td>2016-01-06</td>\n",
       "      <td>0</td>\n",
       "      <td>NaN</td>\n",
       "      <td>1</td>\n",
       "      <td>2016</td>\n",
       "      <td>Wednesday</td>\n",
       "    </tr>\n",
       "    <tr>\n",
       "      <td>3</td>\n",
       "      <td>241032</td>\n",
       "      <td>2016-01-07</td>\n",
       "      <td>0</td>\n",
       "      <td>NaN</td>\n",
       "      <td>1</td>\n",
       "      <td>2016</td>\n",
       "      <td>Thursday</td>\n",
       "    </tr>\n",
       "    <tr>\n",
       "      <td>4</td>\n",
       "      <td>241032</td>\n",
       "      <td>2016-01-08</td>\n",
       "      <td>0</td>\n",
       "      <td>NaN</td>\n",
       "      <td>1</td>\n",
       "      <td>2016</td>\n",
       "      <td>Friday</td>\n",
       "    </tr>\n",
       "  </tbody>\n",
       "</table>\n",
       "</div>"
      ],
      "text/plain": [
       "   listing_id       date  available  price  month  year    weekday\n",
       "0      241032 2016-01-04          1   85.0      1  2016     Monday\n",
       "1      241032 2016-01-05          1   85.0      1  2016    Tuesday\n",
       "2      241032 2016-01-06          0    NaN      1  2016  Wednesday\n",
       "3      241032 2016-01-07          0    NaN      1  2016   Thursday\n",
       "4      241032 2016-01-08          0    NaN      1  2016     Friday"
      ]
     },
     "execution_count": 7,
     "metadata": {},
     "output_type": "execute_result"
    }
   ],
   "source": [
    "df_calendar.head()"
   ]
  },
  {
   "cell_type": "code",
   "execution_count": 8,
   "metadata": {},
   "outputs": [
    {
     "data": {
      "text/plain": [
       "Text(0.5, 1.0, 'Prices of Airbnbs for this year in Seattle')"
      ]
     },
     "execution_count": 8,
     "metadata": {},
     "output_type": "execute_result"
    },
    {
     "data": {
      "image/png": "[encoded data removed]",
      "text/plain": [
       "<Figure size 1440x360 with 2 Axes>"
      ]
     },
     "metadata": {
      "needs_background": "light"
     },
     "output_type": "display_data"
    }
   ],
   "source": [
    "# Let's check if the demand of airbnb's vary with time\n",
    "ax = plt.subplot(1,2,1)\n",
    "df_calendar_date_agg.plot(x = 'date',y = 'perc_available',ax = ax,figsize=(20,5))\n",
    "plt.title('Availability of Airbnbs for this year in Seattle')\n",
    "ax = plt.subplot(1,2,2)\n",
    "df_calendar_date_agg.plot(x = 'date',y = 'price',ax = ax,figsize = (20,5))\n",
    "plt.title('Prices of Airbnbs for this year in Seattle')"
   ]
  },
  {
   "cell_type": "markdown",
   "metadata": {},
   "source": [
    "- It looks like there is some seasonality in Seattle, specially considering how the prices of listings go up in July - August - September. A quick google search also points out that best time to visit Seattle is indeed July - September due to good weather.\n",
    "\n",
    "- In the availability data, we do observe that there is a dip in the month of July, though too far out in the year, listings again become available and there is a steep increase in availability\n",
    "\n",
    "- Looking at trends in prices, there seems to be some weekly trend as well, common wisdom says, listings should be a little expensive in weekends, let's explore that"
   ]
  },
  {
   "cell_type": "code",
   "execution_count": 9,
   "metadata": {},
   "outputs": [
    {
     "data": {
      "text/plain": [
       "Text(0.5, 1.0, 'Weekly fluctuation in prices of Airbnbs in Seattle')"
      ]
     },
     "execution_count": 9,
     "metadata": {},
     "output_type": "execute_result"
    },
    {
     "data": {
      "image/png": "[encoded data removed]",
      "text/plain": [
       "<Figure size 1440x360 with 2 Axes>"
      ]
     },
     "metadata": {
      "needs_background": "light"
     },
     "output_type": "display_data"
    }
   ],
   "source": [
    "#aggregate availability and price by day of the week\n",
    "df_calendar_day_agg = df_calendar.groupby(['weekday']).agg({'available':[('available_listings','sum'),('total_listings','count')],'price':'mean'}).reset_index()\n",
    "df_calendar_day_agg.columns = ['weekday','available_listings','total_listings','price']\n",
    "df_calendar_day_agg['perc_available'] = df_calendar_day_agg['available_listings']/df_calendar_day_agg['total_listings']\n",
    "df_calendar_day_agg = df_calendar_day_agg.set_index('weekday')\n",
    "df_calendar_day_agg = df_calendar_day_agg.reindex(['Friday', 'Saturday', 'Sunday',  'Monday','Tuesday', 'Wednesday','Thursday'])\n",
    "df_calendar_day_agg\n",
    "ax = plt.subplot(1,2,1)\n",
    "df_calendar_day_agg['perc_available'].plot(ax = ax,figsize=(20,5))\n",
    "plt.title('Weekly availability of Airbnbs  in Seattle')\n",
    "ax = plt.subplot(1,2,2)\n",
    "df_calendar_day_agg['price'].plot(ax = ax,figsize = (20,5))\n",
    "plt.title('Weekly fluctuation in prices of Airbnbs in Seattle')"
   ]
  },
  {
   "cell_type": "markdown",
   "metadata": {},
   "source": [
    " - We can see that availability falls and price increases on weekends across Airbnbs listings in Seattle"
   ]
  },
  {
   "cell_type": "code",
   "execution_count": 10,
   "metadata": {},
   "outputs": [],
   "source": [
    "# Let's explore how prices and availability vary by type of listings\n",
    "\n",
    "#merge calendar data with listings\n",
    "df_calendar_list_agg = df_calendar_list_agg.merge(df_listings[['id','property_type','room_type']],left_on='listing_id',\n",
    "                                                 right_on='id',how='left')\n",
    "\n",
    "# remove listings with missing values\n",
    "df_calendar_list_agg.dropna(axis = 0,inplace = True)\n",
    "df_calendar_list_agg.isna().sum()\n",
    "\n",
    "df_calendar_list_agg.head()\n",
    "df_calendar_list_agg['perc_available'] = df_calendar_list_agg['available']/365.0\n",
    "\n",
    "df_calendar_ppty_agg = df_calendar_list_agg.groupby(['property_type']).agg({'perc_available':[('perc_available','mean'),('std_available','std')],   \\\n",
    "                                                                            'price':[('price','mean'),('std_price','std')],'listing_id':'count',    \\\n",
    "                                                                           }).reset_index()\n",
    "\n",
    "df_calendar_ppty_agg.columns = ['property_type','perc_available','std_available','price','std_price','count']\n",
    "\n",
    "df_calendar_room_agg = df_calendar_list_agg.groupby(['room_type']).agg({'perc_available':[('perc_available','mean'),('std_available','std')],\n",
    "                                                                        'price':[('price','mean'),('std_price','std')],'listing_id':'count'      \\\n",
    "                                                                           }).reset_index()\n",
    "df_calendar_room_agg.columns = ['room_type','perc_available','std_available','price','std_price','count']\n"
   ]
  },
  {
   "cell_type": "code",
   "execution_count": 11,
   "metadata": {},
   "outputs": [
    {
     "data": {
      "text/plain": [
       "Text(0.5, 1.0, 'Variation in price by type of property')"
      ]
     },
     "execution_count": 11,
     "metadata": {},
     "output_type": "execute_result"
    },
    {
     "data": {
      "image/png": "[encoded data removed]",
      "text/plain": [
       "<Figure size 1440x360 with 2 Axes>"
      ]
     },
     "metadata": {
      "needs_background": "light"
     },
     "output_type": "display_data"
    }
   ],
   "source": [
    "# Let's have a look at availaibilty and prices and property type\n",
    "ax = plt.subplot(1,2,1)\n",
    "df_calendar_ppty_agg.plot.bar(x = 'property_type',y = 'perc_available',ax = ax, figsize = (20,5))\n",
    "plt.title('Variation in availaibilty by type of property')\n",
    "\n",
    "ax = plt.subplot(1,2,2)\n",
    "df_calendar_ppty_agg.plot.bar(x = 'property_type',y = 'price',ax = ax, figsize = (20,5))\n",
    "plt.title('Variation in price by type of property')"
   ]
  },
  {
   "cell_type": "markdown",
   "metadata": {},
   "source": [
    " - Looks like boats are expensive to rent and Dorms are the cheapest (no surprises)"
   ]
  },
  {
   "cell_type": "code",
   "execution_count": 12,
   "metadata": {},
   "outputs": [
    {
     "data": {
      "image/png": "[encoded data removed]",
      "text/plain": [
       "<Figure size 432x288 with 1 Axes>"
      ]
     },
     "metadata": {
      "needs_background": "light"
     },
     "output_type": "display_data"
    },
    {
     "data": {
      "image/png": "[encoded data removed]",
      "text/plain": [
       "<Figure size 432x288 with 1 Axes>"
      ]
     },
     "metadata": {
      "needs_background": "light"
     },
     "output_type": "display_data"
    }
   ],
   "source": [
    "def error_bar(df,x,y,err,title):\n",
    "    '''A function to create a bar plots with standard deviation'''\n",
    "    x_label = df[x].tolist()\n",
    "    x_pos = np.arange(len(x_label))\n",
    "    y_val = df[y].tolist()\n",
    "    error = df[err].tolist()\n",
    "\n",
    "    #Build the Plot\n",
    "    fig,ax = plt.subplots()\n",
    "    ax.bar(x_pos,y_val,yerr = error,align = 'center',alpha = 0.5,ecolor = 'black',capsize = 10)\n",
    "    ax.set_xticks(x_pos)\n",
    "    ax.set_xticklabels(x_label)\n",
    "    ax.set_title(title)\n",
    "\n",
    "\n",
    "error_bar(df_calendar_room_agg,x = 'room_type',y = 'perc_available',err = 'std_available',\n",
    "          title = 'Variation in availability by type of room')\n",
    "error_bar(df_calendar_room_agg,x = 'room_type',y = 'price',err = 'std_price',\n",
    "          title = 'Variation in price by type of room')"
   ]
  },
  {
   "cell_type": "markdown",
   "metadata": {},
   "source": [
    " - Though there does not appear to be a noticable difference between the availaibility of differenty types of room available across different listings of Airbnbs in Seattle, the difference in prices is evident.Entire home/apartment is expensive than a private room followed by shared room\n",
    "\n",
    " - Additionally, there is a large standard deviation around the prices of Entire home/apartment, this probably is due to differences within the Homes/Apartments in terms of amenities offered, locality, experiences, # rooms, # beds etc.\n",
    " \n",
    "Therefore while you wouldn't get too much choice price wise while going for a shared or a private rooom in an Airbnb, there is a lot of different choices available by price when it comes to renting out entire homes \n"
   ]
  },
  {
   "cell_type": "markdown",
   "metadata": {},
   "source": [
    "However this is not very informative, as we are not controlling for property type when we compare room types across Airbnbs"
   ]
  },
  {
   "cell_type": "code",
   "execution_count": 13,
   "metadata": {},
   "outputs": [
    {
     "data": {
      "image/png": "[encoded data removed]",
      "text/plain": [
       "<Figure size 432x288 with 1 Axes>"
      ]
     },
     "metadata": {
      "needs_background": "light"
     },
     "output_type": "display_data"
    },
    {
     "data": {
      "image/png": "[encoded data removed]",
      "text/plain": [
       "<Figure size 432x288 with 1 Axes>"
      ]
     },
     "metadata": {
      "needs_background": "light"
     },
     "output_type": "display_data"
    }
   ],
   "source": [
    "# Out of total Entire House/Apartment Listings, 90% are Apartments or House while rest 13 categories sum up to ~10%\n",
    "# Since we don't have enough data points for these, I'll drop them and focus on property type either Apartment or a House\n",
    "df_calendar_ppty_agg = df_calendar_ppty_agg[df_calendar_ppty_agg.property_type.isin(['Apartment','House'])]\n",
    "df_calendar_ppty_agg\n",
    "error_bar(df_calendar_ppty_agg,x = 'property_type',y = 'perc_available',err = 'std_available',\n",
    "          title = 'Variation in availability by type of room')\n",
    "error_bar(df_calendar_ppty_agg,x = 'property_type',y = 'price',err = 'std_price',\n",
    "          title = 'Variation in price by type of room')\n"
   ]
  },
  {
   "cell_type": "markdown",
   "metadata": {},
   "source": [
    "Average price for an Apartment and House is similar, though there seems to be a slightly higher variation between listings of Houses Airbnbs compared to Apartments"
   ]
  },
  {
   "cell_type": "code",
   "execution_count": null,
   "metadata": {},
   "outputs": [],
   "source": [
    "# Let's analyze how different set of features impact price of a listing, and develop a model which could help us predict(or set)\n",
    "# the price of a listing based on a bunch of different attributes - host related, property related, type of reviews etc."
   ]
  },
  {
   "cell_type": "code",
   "execution_count": 141,
   "metadata": {},
   "outputs": [],
   "source": [
    "# square feet is missing in over 95% listings, therfore dropped from the analysis\n",
    "df_flt_listings = df_listings[['id','host_since','host_response_time','host_acceptance_rate','host_is_superhost','host_listings_count',\n",
    "            'host_total_listings_count','host_identity_verified',\n",
    "            'neighbourhood_group_cleansed','property_type','room_type','accommodates','bathrooms',\n",
    "            'bedrooms','beds','bed_type','amenities','price','security_deposit','cleaning_fee',\n",
    "            'guests_included','extra_people','minimum_nights','maximum_nights','calendar_updated',\n",
    "            'availability_30','availability_60','availability_90','availability_365',\n",
    "            'review_scores_rating','review_scores_accuracy','review_scores_cleanliness','review_scores_checkin',\n",
    "             'review_scores_communication','review_scores_location','review_scores_value',\n",
    "            'instant_bookable','cancellation_policy','require_guest_profile_picture','require_guest_phone_verification',\n",
    "             'calculated_host_listings_count','reviews_per_month']]\n",
    "\n",
    "# filter for Property Type as House\n",
    "df_flt_listings = df_flt_listings[df_flt_listings.property_type == 'House']"
   ]
  },
  {
   "cell_type": "code",
   "execution_count": 142,
   "metadata": {},
   "outputs": [],
   "source": [
    "### clean price and percentage values to proper numbers - understandable to a model\n",
    "df_flt_listings['price'] = df_flt_listings.price.apply(clean_price)\n",
    "df_flt_listings['cleaning_fee'] = df_flt_listings.cleaning_fee.apply(clean_price)\n",
    "df_flt_listings['extra_people'] = df_flt_listings.extra_people.apply(clean_price)\n",
    "df_flt_listings['security_deposit'] = df_flt_listings.security_deposit.apply(clean_price)\n",
    "df_flt_listings['host_acceptance_rate'] = df_flt_listings.host_acceptance_rate.apply(clean_perc)\n"
   ]
  },
  {
   "cell_type": "code",
   "execution_count": 143,
   "metadata": {},
   "outputs": [],
   "source": [
    "# convert categorical variables to numeric\n",
    "\n",
    "map_calendar_updated =   {'4 weeks ago':28, 'today':0, '5 weeks ago':35, '6 months ago':180,\n",
    "       '7 weeks ago':49, '2 weeks ago':14, 'yesterday':1, '5 months ago':150,\n",
    "       'a week ago':7, '5 days ago':5, '3 days ago':3, '2 months ago':60,\n",
    "       '3 months ago':90, '4 days ago':4, '2 days ago':2, '3 weeks ago':21,\n",
    "       '1 week ago':7, '13 months ago':390, '6 weeks ago':42, '8 months ago':56,\n",
    "       '12 months ago':360, '4 months ago':120, 'never':1000, '6 days ago':6,\n",
    "       '10 months ago':300, '14 months ago':420, '9 months ago':270, '7 months ago':210,\n",
    "       '30 months ago':900, '11 months ago':330, '22 months ago':660, '16 months ago':480,\n",
    "       '15 months ago':450, '17 months ago':510}\n",
    "\n",
    "df_flt_listings['calendar_updated'] = df_flt_listings.calendar_updated.map(map_calendar_updated)\n",
    "\n",
    "# map true/false labels to 1/0\n",
    "map_flag =   {'f': 0 , 't': 1}\n",
    "df_flt_listings['instant_bookable'] = df_flt_listings.instant_bookable.map(map_flag)\n",
    "df_flt_listings['host_is_superhost'] = df_flt_listings.host_is_superhost.map(map_flag)\n",
    "df_flt_listings['require_guest_profile_picture'] = df_flt_listings.require_guest_profile_picture.map(map_flag)\n",
    "df_flt_listings['require_guest_phone_verification'] = df_flt_listings.require_guest_phone_verification.map(map_flag)\n",
    "df_flt_listings['host_identity_verified'] = df_flt_listings.host_identity_verified.map(map_flag)\n"
   ]
  },
  {
   "cell_type": "code",
   "execution_count": 144,
   "metadata": {},
   "outputs": [],
   "source": [
    "# One Hot Encoding of categorical variables\n",
    "df_dummy_temp = pd.get_dummies(df_flt_listings[['id','room_type','cancellation_policy','neighbourhood_group_cleansed',\n",
    "                                               'host_response_time']], drop_first = True)\n",
    "df_flt_listings = df_flt_listings.merge(df_dummy_temp,on = 'id', how = 'left')\n",
    "df_flt_listings.drop(['property_type','room_type','bed_type','cancellation_policy','neighbourhood_group_cleansed',\n",
    "                     'host_response_time'],axis =1,inplace = True)\n",
    "\n"
   ]
  },
  {
   "cell_type": "code",
   "execution_count": 145,
   "metadata": {},
   "outputs": [
    {
     "data": {
      "text/plain": [
       "id                                                  0.000000\n",
       "host_since                                          0.000000\n",
       "host_acceptance_rate                                0.208886\n",
       "host_is_superhost                                   0.000000\n",
       "host_listings_count                                 0.000000\n",
       "host_total_listings_count                           0.000000\n",
       "host_identity_verified                              0.000000\n",
       "accommodates                                        0.000000\n",
       "bathrooms                                           0.005193\n",
       "bedrooms                                            0.000577\n",
       "beds                                                0.000577\n",
       "amenities                                           0.000000\n",
       "price                                               0.000000\n",
       "security_deposit                                    0.490479\n",
       "cleaning_fee                                        0.270052\n",
       "guests_included                                     0.000000\n",
       "extra_people                                        0.000000\n",
       "minimum_nights                                      0.000000\n",
       "maximum_nights                                      0.000000\n",
       "calendar_updated                                    0.000000\n",
       "availability_30                                     0.000000\n",
       "availability_60                                     0.000000\n",
       "availability_90                                     0.000000\n",
       "availability_365                                    0.000000\n",
       "review_scores_rating                                0.157530\n",
       "review_scores_accuracy                              0.160415\n",
       "review_scores_cleanliness                           0.159261\n",
       "review_scores_checkin                               0.160992\n",
       "review_scores_communication                         0.158684\n",
       "review_scores_location                              0.159838\n",
       "review_scores_value                                 0.160415\n",
       "instant_bookable                                    0.000000\n",
       "require_guest_profile_picture                       0.000000\n",
       "require_guest_phone_verification                    0.000000\n",
       "calculated_host_listings_count                      0.000000\n",
       "reviews_per_month                                   0.154068\n",
       "room_type_Private room                              0.000000\n",
       "room_type_Shared room                               0.000000\n",
       "cancellation_policy_moderate                        0.000000\n",
       "cancellation_policy_strict                          0.000000\n",
       "neighbourhood_group_cleansed_Beacon Hill            0.000000\n",
       "neighbourhood_group_cleansed_Capitol Hill           0.000000\n",
       "neighbourhood_group_cleansed_Cascade                0.000000\n",
       "neighbourhood_group_cleansed_Central Area           0.000000\n",
       "neighbourhood_group_cleansed_Delridge               0.000000\n",
       "neighbourhood_group_cleansed_Downtown               0.000000\n",
       "neighbourhood_group_cleansed_Interbay               0.000000\n",
       "neighbourhood_group_cleansed_Lake City              0.000000\n",
       "neighbourhood_group_cleansed_Magnolia               0.000000\n",
       "neighbourhood_group_cleansed_Northgate              0.000000\n",
       "neighbourhood_group_cleansed_Other neighborhoods    0.000000\n",
       "neighbourhood_group_cleansed_Queen Anne             0.000000\n",
       "neighbourhood_group_cleansed_Rainier Valley         0.000000\n",
       "neighbourhood_group_cleansed_Seward Park            0.000000\n",
       "neighbourhood_group_cleansed_University District    0.000000\n",
       "neighbourhood_group_cleansed_West Seattle           0.000000\n",
       "host_response_time_within a day                     0.000000\n",
       "host_response_time_within a few hours               0.000000\n",
       "host_response_time_within an hour                   0.000000\n",
       "dtype: float64"
      ]
     },
     "execution_count": 145,
     "metadata": {},
     "output_type": "execute_result"
    }
   ],
   "source": [
    "df_flt_listings.isnull().sum()/df_flt_listings.shape[0]"
   ]
  },
  {
   "cell_type": "code",
   "execution_count": 146,
   "metadata": {},
   "outputs": [],
   "source": [
    "# impute missing values\n",
    "\n",
    "# looks like new listings or inactive listings don't have any reviews, impute them with zero\n",
    "\n",
    "#let's assume, missing acceptance rate likely suggests zero acceptance\n",
    "df_flt_listings['host_acceptance_rate'].fillna(0,inplace = True)\n",
    "\n",
    "# impute mising deposits with mean\n",
    "df_flt_listings['security_deposit'].fillna(df_flt_listings.security_deposit.mean(),inplace = True)\n",
    "df_flt_listings['cleaning_fee'].fillna(df_flt_listings.cleaning_fee.mean(),inplace = True)\n",
    "\n",
    "df_flt_listings['review_scores_rating'].fillna(df_flt_listings.review_scores_rating.mean(),inplace = True)\n",
    "df_flt_listings['review_scores_accuracy'].fillna(df_flt_listings.review_scores_accuracy.mean(),inplace = True)\n",
    "df_flt_listings['review_scores_cleanliness'].fillna(df_flt_listings.review_scores_cleanliness.mean(),inplace = True)\n",
    "df_flt_listings['review_scores_checkin'].fillna(df_flt_listings.review_scores_checkin.mean(),inplace = True)\n",
    "df_flt_listings['review_scores_communication'].fillna(df_flt_listings.review_scores_communication.mean(),inplace = True)\n",
    "df_flt_listings['review_scores_location'].fillna(df_flt_listings.review_scores_location.mean(),inplace = True)\n",
    "df_flt_listings['review_scores_value'].fillna(df_flt_listings.review_scores_value.mean(),inplace = True)\n",
    "df_flt_listings['reviews_per_month'].fillna(df_flt_listings.reviews_per_month.mean(),inplace = True)\n",
    "df_flt_listings['bathrooms'].fillna(df_flt_listings.bathrooms.mean(),inplace = True)\n",
    "df_flt_listings['bedrooms'].fillna(df_flt_listings.bedrooms.mean(),inplace = True)\n",
    "df_flt_listings['beds'].fillna(df_flt_listings.beds.mean(),inplace = True)\n"
   ]
  },
  {
   "cell_type": "code",
   "execution_count": 147,
   "metadata": {
    "scrolled": true
   },
   "outputs": [
    {
     "name": "stderr",
     "output_type": "stream",
     "text": [
      "C:\\Users\\mm13690\\AppData\\Local\\Continuum\\anaconda3\\lib\\site-packages\\ipykernel_launcher.py:10: SettingWithCopyWarning: \n",
      "A value is trying to be set on a copy of a slice from a DataFrame.\n",
      "Try using .loc[row_indexer,col_indexer] = value instead\n",
      "\n",
      "See the caveats in the documentation: http://pandas.pydata.org/pandas-docs/stable/user_guide/indexing.html#returning-a-view-versus-a-copy\n",
      "  # Remove the CWD from sys.path while we load stuff.\n",
      "C:\\Users\\mm13690\\AppData\\Local\\Continuum\\anaconda3\\lib\\site-packages\\ipykernel_launcher.py:13: SettingWithCopyWarning: \n",
      "A value is trying to be set on a copy of a slice from a DataFrame.\n",
      "Try using .loc[row_indexer,col_indexer] = value instead\n",
      "\n",
      "See the caveats in the documentation: http://pandas.pydata.org/pandas-docs/stable/user_guide/indexing.html#returning-a-view-versus-a-copy\n",
      "  del sys.path[0]\n",
      "C:\\Users\\mm13690\\AppData\\Local\\Continuum\\anaconda3\\lib\\site-packages\\pandas\\core\\frame.py:4102: SettingWithCopyWarning: \n",
      "A value is trying to be set on a copy of a slice from a DataFrame\n",
      "\n",
      "See the caveats in the documentation: http://pandas.pydata.org/pandas-docs/stable/user_guide/indexing.html#returning-a-view-versus-a-copy\n",
      "  errors=errors,\n"
     ]
    }
   ],
   "source": [
    "# convert amenities into categories\n",
    "_list_amenities = []\n",
    "\n",
    "for index,row in df_flt_listings.iterrows():\n",
    "    _list_amenities.extend((row['amenities'][1:(len(row['amenities'])-1)].split(',')))\n",
    "\n",
    "df_temp = df_flt_listings[['id','amenities']]\n",
    "amenities = list(set(_list_amenities))[1:]\n",
    "for i in amenities:\n",
    "    df_temp[i] = 0\n",
    "\n",
    "for i in amenities:\n",
    "    df_temp[i] = df_temp['amenities'].apply(lambda x: 1 if i in x else 0)\n",
    "\n",
    "df_temp.drop(['amenities'],axis = 1,inplace = True)\n",
    "df_flt_listings.drop(['amenities'],axis = 1,inplace = True)\n",
    "\n",
    "df_flt_listings = df_flt_listings.merge(df_temp, on = 'id',how = 'left')"
   ]
  },
  {
   "cell_type": "code",
   "execution_count": 148,
   "metadata": {},
   "outputs": [],
   "source": [
    "# convert date into meaningful features - in this case, we believe that older hosts might have some advantage over newer hosts\n",
    "df_flt_listings['host_since'] = pd.to_datetime(df_flt_listings['host_since'])\n",
    "df_flt_listings['host_since']  = (df_calendar.date.max() - df_flt_listings.host_since)\n",
    "df_flt_listings['host_since'] = df_flt_listings.host_since.dt.days\n",
    "# df_calendar['month'] = df_calendar.date.dt.month\n",
    "# df_calendar['year'] = df_calendar.date.dt.year\n",
    "# df_calendar['weekday'] = df_calendar.date.dt.weekday_name"
   ]
  },
  {
   "cell_type": "code",
   "execution_count": 149,
   "metadata": {},
   "outputs": [
    {
     "data": {
      "text/plain": [
       "0"
      ]
     },
     "execution_count": 149,
     "metadata": {},
     "output_type": "execute_result"
    }
   ],
   "source": [
    "# missing vlaues\n",
    "df_flt_listings.isnull().sum().sum()"
   ]
  },
  {
   "cell_type": "code",
   "execution_count": null,
   "metadata": {},
   "outputs": [],
   "source": []
  },
  {
   "cell_type": "code",
   "execution_count": 150,
   "metadata": {},
   "outputs": [
    {
     "name": "stderr",
     "output_type": "stream",
     "text": [
      "C:\\Users\\mm13690\\AppData\\Local\\Continuum\\anaconda3\\lib\\site-packages\\numpy\\core\\fromnumeric.py:2389: FutureWarning: Method .ptp is deprecated and will be removed in a future version. Use numpy.ptp instead.\n",
      "  return ptp(axis=axis, out=out, **kwargs)\n",
      "C:\\Users\\mm13690\\AppData\\Local\\Continuum\\anaconda3\\lib\\site-packages\\statsmodels\\stats\\outliers_influence.py:185: RuntimeWarning: divide by zero encountered in double_scalars\n",
      "  vif = 1. / (1. - r_squared_i)\n"
     ]
    },
    {
     "data": {
      "text/plain": [
       "host_listings_count                             inf\n",
       "host_total_listings_count                       inf\n",
       "const                                    941.933703\n",
       "availability_60                           50.976930\n",
       "availability_90                           29.710246\n",
       "                                            ...    \n",
       "neighbourhood_group_cleansed_Cascade       1.113237\n",
       "\"Wheelchair Accessible\"                    1.112322\n",
       "\"Air Conditioning\"                         1.089531\n",
       "neighbourhood_group_cleansed_Interbay      1.066383\n",
       "\"Washer / Dryer\"                           1.040900\n",
       "Length: 99, dtype: float64"
      ]
     },
     "execution_count": 150,
     "metadata": {},
     "output_type": "execute_result"
    }
   ],
   "source": [
    "# Remove extremely correlated variables from the analysis\n",
    "\n",
    "from statsmodels.stats.outliers_influence import variance_inflation_factor\n",
    "from statsmodels.tools.tools import add_constant\n",
    "\n",
    "X = add_constant(df_flt_listings)\n",
    "vif_dat = pd.Series([variance_inflation_factor(X.values,i) for i in range(X.shape[1])],index = X.columns)\n",
    "\n",
    "vif_dat.sort_values(ascending=False)"
   ]
  },
  {
   "cell_type": "code",
   "execution_count": 151,
   "metadata": {
    "scrolled": true
   },
   "outputs": [],
   "source": [
    "df_flt_listings.drop(['host_total_listings_count','availability_60','availability_90','availability_30'],axis = 1, inplace = True)"
   ]
  },
  {
   "cell_type": "code",
   "execution_count": 152,
   "metadata": {},
   "outputs": [
    {
     "data": {
      "text/plain": [
       "const                                    939.127254\n",
       "accommodates                               8.698680\n",
       "beds                                       6.146637\n",
       "bedrooms                                   6.110941\n",
       "Dryer                                      5.396367\n",
       "                                            ...    \n",
       "neighbourhood_group_cleansed_Cascade       1.111695\n",
       "\"Wheelchair Accessible\"                    1.105682\n",
       "\"Air Conditioning\"                         1.084059\n",
       "neighbourhood_group_cleansed_Interbay      1.061872\n",
       "\"Washer / Dryer\"                           1.040620\n",
       "Length: 95, dtype: float64"
      ]
     },
     "execution_count": 152,
     "metadata": {},
     "output_type": "execute_result"
    }
   ],
   "source": [
    "# Re calculate VIF\n",
    "X = add_constant(df_flt_listings)\n",
    "vif_dat = pd.Series([variance_inflation_factor(X.values,i) for i in range(X.shape[1])],index = X.columns)\n",
    "vif_dat.sort_values(ascending=False)"
   ]
  },
  {
   "cell_type": "code",
   "execution_count": 153,
   "metadata": {},
   "outputs": [],
   "source": [
    "df_flt_listings.drop(['id','accommodates','beds','Dryer','Internet','Hangers','host_response_time_within an hour'],axis = 1, inplace = True)"
   ]
  },
  {
   "cell_type": "code",
   "execution_count": 154,
   "metadata": {},
   "outputs": [
    {
     "data": {
      "text/plain": [
       "const                                    912.786318\n",
       "require_guest_phone_verification           4.525920\n",
       "require_guest_profile_picture              4.348866\n",
       "\"Pets live on this property\"               4.285521\n",
       "bedrooms                                   4.008755\n",
       "                                            ...    \n",
       "neighbourhood_group_cleansed_Cascade       1.108267\n",
       "\"Wheelchair Accessible\"                    1.098611\n",
       "\"Air Conditioning\"                         1.083300\n",
       "neighbourhood_group_cleansed_Interbay      1.056335\n",
       "\"Washer / Dryer\"                           1.039570\n",
       "Length: 88, dtype: float64"
      ]
     },
     "execution_count": 154,
     "metadata": {},
     "output_type": "execute_result"
    }
   ],
   "source": [
    "# Re calculate VIF\n",
    "X = add_constant(df_flt_listings)\n",
    "vif_dat = pd.Series([variance_inflation_factor(X.values,i) for i in range(X.shape[1])],index = X.columns)\n",
    "vif_dat.sort_values(ascending=False)"
   ]
  },
  {
   "cell_type": "code",
   "execution_count": 155,
   "metadata": {},
   "outputs": [
    {
     "name": "stdout",
     "output_type": "stream",
     "text": [
      "Training Score: 0.7104260563921856\n",
      "Test Score: 0.7062937599858568\n",
      "RMSE: 51.78466936580307\n"
     ]
    }
   ],
   "source": [
    "import numpy as np\n",
    "from sklearn.linear_model import LinearRegression\n",
    "# from sklearn.linear_model import Ridge\n",
    "# from sklearn.linear_model import Lasso\n",
    "# from sklearn.linear_model import ElasticNet\n",
    "from sklearn.metrics import mean_squared_error\n",
    "from sklearn.model_selection import train_test_split\n",
    "# from sklearn.pipeline import Pipeline\n",
    "# from sklearn.preprocessing import StandardScaler\n",
    "\n",
    "import matplotlib.pyplot as plt\n",
    "import seaborn as sns\n",
    "import math\n",
    "sns.set()\n",
    "\n",
    "%matplotlib inline\n",
    "\n",
    "X = df_flt_listings.drop(['price'],axis = 1)\n",
    "y = df_flt_listings.price\n",
    "\n",
    "X_train,X_test,y_train,y_test = train_test_split(X,y,test_size = 0.20)\n",
    "\n",
    "\n",
    "lr_model = LinearRegression()\n",
    "lr_model.fit(X_train,y_train)\n",
    "\n",
    "print('Training Score: {}'.format(lr_model.score(X_train,y_train)))\n",
    "print('Test Score: {}'.format(lr_model.score(X_test,y_test)))\n",
    "\n",
    "y_pred = lr_model.predict(X_test)\n",
    "mse = mean_squared_error(y_pred,y_test)\n",
    "rmse = math.sqrt(mse)\n",
    "\n",
    "print('RMSE: {}'.format(rmse))"
   ]
  },
  {
   "cell_type": "code",
   "execution_count": 156,
   "metadata": {},
   "outputs": [
    {
     "data": {
      "text/html": [
       "<div>\n",
       "<style scoped>\n",
       "    .dataframe tbody tr th:only-of-type {\n",
       "        vertical-align: middle;\n",
       "    }\n",
       "\n",
       "    .dataframe tbody tr th {\n",
       "        vertical-align: top;\n",
       "    }\n",
       "\n",
       "    .dataframe thead th {\n",
       "        text-align: right;\n",
       "    }\n",
       "</style>\n",
       "<table border=\"1\" class=\"dataframe\">\n",
       "  <thead>\n",
       "    <tr style=\"text-align: right;\">\n",
       "      <th></th>\n",
       "      <th>host_since</th>\n",
       "      <th>host_acceptance_rate</th>\n",
       "      <th>host_is_superhost</th>\n",
       "      <th>host_listings_count</th>\n",
       "      <th>host_identity_verified</th>\n",
       "      <th>bathrooms</th>\n",
       "      <th>bedrooms</th>\n",
       "      <th>security_deposit</th>\n",
       "      <th>cleaning_fee</th>\n",
       "      <th>guests_included</th>\n",
       "      <th>...</th>\n",
       "      <th>\"Indoor Fireplace\"</th>\n",
       "      <th>\"Buzzer/Wireless Intercom\"</th>\n",
       "      <th>\"Washer / Dryer\"</th>\n",
       "      <th>\"Suitable for Events\"</th>\n",
       "      <th>Pool</th>\n",
       "      <th>\"Smoking Allowed\"</th>\n",
       "      <th>Essentials</th>\n",
       "      <th>\"Family/Kid Friendly\"</th>\n",
       "      <th>Iron</th>\n",
       "      <th>\"Laptop Friendly Workspace\"</th>\n",
       "    </tr>\n",
       "  </thead>\n",
       "  <tbody>\n",
       "    <tr>\n",
       "      <td>385</td>\n",
       "      <td>703</td>\n",
       "      <td>100.0</td>\n",
       "      <td>0</td>\n",
       "      <td>21.0</td>\n",
       "      <td>0</td>\n",
       "      <td>2.0</td>\n",
       "      <td>1.0</td>\n",
       "      <td>500.000000</td>\n",
       "      <td>10.000000</td>\n",
       "      <td>1</td>\n",
       "      <td>...</td>\n",
       "      <td>0</td>\n",
       "      <td>0</td>\n",
       "      <td>0</td>\n",
       "      <td>0</td>\n",
       "      <td>0</td>\n",
       "      <td>0</td>\n",
       "      <td>1</td>\n",
       "      <td>1</td>\n",
       "      <td>1</td>\n",
       "      <td>1</td>\n",
       "    </tr>\n",
       "    <tr>\n",
       "      <td>1659</td>\n",
       "      <td>1041</td>\n",
       "      <td>0.0</td>\n",
       "      <td>0</td>\n",
       "      <td>1.0</td>\n",
       "      <td>1</td>\n",
       "      <td>1.0</td>\n",
       "      <td>1.0</td>\n",
       "      <td>250.000000</td>\n",
       "      <td>12.000000</td>\n",
       "      <td>1</td>\n",
       "      <td>...</td>\n",
       "      <td>1</td>\n",
       "      <td>0</td>\n",
       "      <td>0</td>\n",
       "      <td>0</td>\n",
       "      <td>0</td>\n",
       "      <td>0</td>\n",
       "      <td>1</td>\n",
       "      <td>0</td>\n",
       "      <td>0</td>\n",
       "      <td>0</td>\n",
       "    </tr>\n",
       "    <tr>\n",
       "      <td>879</td>\n",
       "      <td>1158</td>\n",
       "      <td>100.0</td>\n",
       "      <td>0</td>\n",
       "      <td>1.0</td>\n",
       "      <td>0</td>\n",
       "      <td>2.5</td>\n",
       "      <td>1.0</td>\n",
       "      <td>300.000000</td>\n",
       "      <td>120.000000</td>\n",
       "      <td>1</td>\n",
       "      <td>...</td>\n",
       "      <td>1</td>\n",
       "      <td>0</td>\n",
       "      <td>0</td>\n",
       "      <td>0</td>\n",
       "      <td>0</td>\n",
       "      <td>0</td>\n",
       "      <td>1</td>\n",
       "      <td>0</td>\n",
       "      <td>0</td>\n",
       "      <td>0</td>\n",
       "    </tr>\n",
       "    <tr>\n",
       "      <td>152</td>\n",
       "      <td>906</td>\n",
       "      <td>100.0</td>\n",
       "      <td>1</td>\n",
       "      <td>1.0</td>\n",
       "      <td>1</td>\n",
       "      <td>2.0</td>\n",
       "      <td>3.0</td>\n",
       "      <td>100.000000</td>\n",
       "      <td>66.464822</td>\n",
       "      <td>5</td>\n",
       "      <td>...</td>\n",
       "      <td>1</td>\n",
       "      <td>0</td>\n",
       "      <td>0</td>\n",
       "      <td>0</td>\n",
       "      <td>0</td>\n",
       "      <td>0</td>\n",
       "      <td>1</td>\n",
       "      <td>1</td>\n",
       "      <td>0</td>\n",
       "      <td>0</td>\n",
       "    </tr>\n",
       "    <tr>\n",
       "      <td>24</td>\n",
       "      <td>586</td>\n",
       "      <td>100.0</td>\n",
       "      <td>0</td>\n",
       "      <td>1.0</td>\n",
       "      <td>1</td>\n",
       "      <td>1.0</td>\n",
       "      <td>1.0</td>\n",
       "      <td>319.217441</td>\n",
       "      <td>66.464822</td>\n",
       "      <td>1</td>\n",
       "      <td>...</td>\n",
       "      <td>0</td>\n",
       "      <td>0</td>\n",
       "      <td>0</td>\n",
       "      <td>0</td>\n",
       "      <td>0</td>\n",
       "      <td>0</td>\n",
       "      <td>1</td>\n",
       "      <td>1</td>\n",
       "      <td>0</td>\n",
       "      <td>0</td>\n",
       "    </tr>\n",
       "  </tbody>\n",
       "</table>\n",
       "<p>5 rows × 86 columns</p>\n",
       "</div>"
      ],
      "text/plain": [
       "      host_since  host_acceptance_rate  host_is_superhost  \\\n",
       "385          703                 100.0                  0   \n",
       "1659        1041                   0.0                  0   \n",
       "879         1158                 100.0                  0   \n",
       "152          906                 100.0                  1   \n",
       "24           586                 100.0                  0   \n",
       "\n",
       "      host_listings_count  host_identity_verified  bathrooms  bedrooms  \\\n",
       "385                  21.0                       0        2.0       1.0   \n",
       "1659                  1.0                       1        1.0       1.0   \n",
       "879                   1.0                       0        2.5       1.0   \n",
       "152                   1.0                       1        2.0       3.0   \n",
       "24                    1.0                       1        1.0       1.0   \n",
       "\n",
       "      security_deposit  cleaning_fee  guests_included  ...  \\\n",
       "385         500.000000     10.000000                1  ...   \n",
       "1659        250.000000     12.000000                1  ...   \n",
       "879         300.000000    120.000000                1  ...   \n",
       "152         100.000000     66.464822                5  ...   \n",
       "24          319.217441     66.464822                1  ...   \n",
       "\n",
       "      \"Indoor Fireplace\"  \"Buzzer/Wireless Intercom\"  \"Washer / Dryer\"  \\\n",
       "385                    0                           0                 0   \n",
       "1659                   1                           0                 0   \n",
       "879                    1                           0                 0   \n",
       "152                    1                           0                 0   \n",
       "24                     0                           0                 0   \n",
       "\n",
       "      \"Suitable for Events\"  Pool  \"Smoking Allowed\"  Essentials  \\\n",
       "385                       0     0                  0           1   \n",
       "1659                      0     0                  0           1   \n",
       "879                       0     0                  0           1   \n",
       "152                       0     0                  0           1   \n",
       "24                        0     0                  0           1   \n",
       "\n",
       "      \"Family/Kid Friendly\"  Iron  \"Laptop Friendly Workspace\"  \n",
       "385                       1     1                            1  \n",
       "1659                      0     0                            0  \n",
       "879                       0     0                            0  \n",
       "152                       1     0                            0  \n",
       "24                        1     0                            0  \n",
       "\n",
       "[5 rows x 86 columns]"
      ]
     },
     "execution_count": 156,
     "metadata": {},
     "output_type": "execute_result"
    }
   ],
   "source": [
    "X_test.head()"
   ]
  },
  {
   "cell_type": "code",
   "execution_count": 159,
   "metadata": {},
   "outputs": [
    {
     "data": {
      "text/plain": [
       "array([48.59690369])"
      ]
     },
     "execution_count": 159,
     "metadata": {},
     "output_type": "execute_result"
    }
   ],
   "source": [
    "# print(X_test.loc[1326])\n",
    "# predict price from test set \n",
    "lr_model.predict(np.array(X_test.loc[385]).reshape(1,86))\n"
   ]
  }
 ],
 "metadata": {
  "kernelspec": {
   "display_name": "Python 3",
   "language": "python",
   "name": "python3"
  },
  "language_info": {
   "codemirror_mode": {
    "name": "ipython",
    "version": 3
   },
   "file_extension": ".py",
   "mimetype": "text/x-python",
   "name": "python",
   "nbconvert_exporter": "python",
   "pygments_lexer": "ipython3",
   "version": "3.7.3"
  }
 },
 "nbformat": 4,
 "nbformat_minor": 2
}
